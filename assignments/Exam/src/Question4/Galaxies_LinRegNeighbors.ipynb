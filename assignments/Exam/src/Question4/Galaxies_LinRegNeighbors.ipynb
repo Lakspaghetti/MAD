{
 "cells": [
  {
   "cell_type": "code",
   "execution_count": 1,
   "metadata": {},
   "outputs": [],
   "source": [
    "import csv\n",
    "import numpy as np\n",
    "import matplotlib.pyplot as plt"
   ]
  },
  {
   "cell_type": "code",
   "execution_count": 2,
   "metadata": {},
   "outputs": [],
   "source": [
    "train_data = np.loadtxt(\"galaxies_train.csv\", delimiter=\",\", skiprows=1)\n",
    "test_data = np.loadtxt(\"galaxies_test.csv\", delimiter=\",\", skiprows=1)"
   ]
  },
  {
   "cell_type": "code",
   "execution_count": 3,
   "metadata": {},
   "outputs": [
    {
     "name": "stdout",
     "output_type": "stream",
     "text": [
      "Number of training instances: 500\n",
      "Number of test instances: 500\n",
      "Number of attributes: 10\n",
      "shape of X_train: (500, 10)\n",
      "shape of t_train: (500,)\n"
     ]
    }
   ],
   "source": [
    "X_train = train_data[:,1:]\n",
    "t_train = train_data[:,0]\n",
    "X_test = test_data[:,1:]\n",
    "t_test = test_data[:,0]\n",
    "print(\"Number of training instances: %i\" % X_train.shape[0])\n",
    "print(\"Number of test instances: %i\" % X_test.shape[0])\n",
    "print(\"Number of attributes: %i\" % X_train.shape[1])\n",
    "print(\"shape of X_train:\", X_train.shape)\n",
    "print(\"shape of t_train:\", t_train.shape)"
   ]
  },
  {
   "cell_type": "code",
   "execution_count": 4,
   "metadata": {},
   "outputs": [],
   "source": [
    "class NearestNeighborRegressor:\n",
    "    \n",
    "    def __init__(self, n_neighbors=1, dist_measure=\"euclidean\", dist_matrix=None):\n",
    "        \"\"\"\n",
    "        Initializes the model.\n",
    "        \n",
    "        Parameters\n",
    "        ----------\n",
    "        n_neighbors : The number of nearest neigbhors (default 1)\n",
    "        dist_measure : The distance measure used (default \"euclidean\")\n",
    "        dist_matrix : The distance matrix if needed (default \"None\")\n",
    "        \"\"\"\n",
    "        \n",
    "        self.n_neighbors = n_neighbors\n",
    "        self.dist_measure = dist_measure\n",
    "        self.dist_matrix = dist_matrix\n",
    "    \n",
    "    def fit(self, X, t):\n",
    "        \"\"\"\n",
    "        Fits the nearest neighbor regression model.\n",
    "\n",
    "        Parameters\n",
    "        ----------\n",
    "        X : Array of shape [n_samples, n_features]\n",
    "        t : Array of length n_samples\n",
    "        \"\"\" \n",
    "        \n",
    "        self.X_train = X\n",
    "        self.t_train = t\n",
    "\n",
    "    def euclidean_distance(self, p, q):\n",
    "        return np.sqrt(np.sum((p-q)**2))\n",
    "    \n",
    "    def RMSE(self, t, tp): #Assignment A2 EX1\n",
    "        error = t - tp\n",
    "        square = error ** 2\n",
    "        mean = np.mean(square)\n",
    "        root = np.sqrt(mean)       \n",
    "        return root\n",
    "\n",
    "    def getKNeighbors(self, X): #https://www.edureka.co/blog/k-nearest-neighbors-algorithm/ used for inspiration\n",
    "        distances = []\n",
    "        for i in self.X_train:\n",
    "            distance = self.euclidean_distance(X, i)\n",
    "            distances.append(distance)\n",
    "        distances = np.argsort(distances, axis=0)[:self.n_neighbors]\n",
    "        KNeighbors = []\n",
    "        for j in distances:\n",
    "            KNeighbors.append(self.t_train[j])\n",
    "        return KNeighbors"
   ]
  },
  {
   "cell_type": "code",
   "execution_count": 5,
   "metadata": {},
   "outputs": [],
   "source": [
    "class LinearRegression():\n",
    "\n",
    "    def __init__(self, lam=1.0):\n",
    "        self.lam = lam\n",
    "            \n",
    "    def fit(self, X, t): #This is from linweighreg.py in Assignment2, altered a bit.\n",
    "\n",
    "        ones = np.ones((X.shape[0], 1))\n",
    "        X = np.concatenate((ones, X), axis=1)           \n",
    "\n",
    "        # compute weights p. 36 Rogers & Girolami\n",
    "        Nlam = self.lam * X.shape[0]\n",
    "        NlamI = Nlam * np.identity(X.shape[1])\n",
    "        a = np.dot(X.T, X) + NlamI\n",
    "        b = np.dot(X.T, t)\n",
    "        \n",
    "        self.w = np.dot(np.linalg.inv(a), b)\n",
    "\n",
    "        \n",
    "    def predict(self, X): #This is an exact copy from linweighreg.py in Assignment2.\n",
    "  \n",
    "        X = np.array(X).reshape((len(X), -1))\n",
    "\n",
    "        # prepend a column of ones\n",
    "        ones = np.ones((X.shape[0], 1))\n",
    "        X = np.concatenate((ones, X), axis=1)           \n",
    "\n",
    "        # compute predictions\n",
    "        predictions = np.dot(X, self.w)\n",
    "\n",
    "        return predictions\n"
   ]
  },
  {
   "cell_type": "code",
   "execution_count": 6,
   "metadata": {},
   "outputs": [
    {
     "name": "stdout",
     "output_type": "stream",
     "text": [
      "The rmse-value is: 0.7865352497417644\n"
     ]
    },
    {
     "data": {
      "image/png": "[encoded data removed]",
      "text/plain": [
       "<Figure size 864x504 with 1 Axes>"
      ]
     },
     "metadata": {
      "needs_background": "light"
     },
     "output_type": "display_data"
    }
   ],
   "source": [
    "NeighborModel = NearestNeighborRegressor(n_neighbors=15)\n",
    "NeighborModel.fit(X_train, t_train)\n",
    "neighbor_train = [] \n",
    "neighbor_test = []\n",
    "\n",
    "for x in X_train:\n",
    "    neighbor_train.append(NeighborModel.getKNeighbors(x))\n",
    "for t in X_test:\n",
    "    neighbor_test.append(NeighborModel.getKNeighbors(t))\n",
    "neighbor_train = np.array(neighbor_train)\n",
    "neighbor_test = np.array(neighbor_test)\n",
    "\n",
    "linRegModel = LinearRegression()\n",
    "linRegModel.fit(neighbor_train, t_train)\n",
    "\n",
    "fForxPredection = linRegModel.predict(neighbor_test)\n",
    "\n",
    "rmseValue = NeighborModel.RMSE(t_test, fForxPredection)\n",
    "print(\"The rmse-value is:\", rmseValue)\n",
    "plt.figure(figsize=(12,7))\n",
    "plt.title(\"Scatterplot\")\n",
    "plt.xlabel('true redshift')\n",
    "plt.ylabel('predicted redshift')\n",
    "plt.scatter(t_test, fForxPredection, color='red', label=\"k=3\", marker=\".\")\n",
    "plt.legend(loc=2)\n",
    "plt.savefig(\"plot4c.png\")\n",
    "plt.show()\n"
   ]
  },
  {
   "cell_type": "code",
   "execution_count": null,
   "metadata": {},
   "outputs": [],
   "source": []
  }
 ],
 "metadata": {
  "kernelspec": {
   "display_name": "Python 3",
   "language": "python",
   "name": "python3"
  },
  "language_info": {
   "codemirror_mode": {
    "name": "ipython",
    "version": 3
   },
   "file_extension": ".py",
   "mimetype": "text/x-python",
   "name": "python",
   "nbconvert_exporter": "python",
   "pygments_lexer": "ipython3",
   "version": "3.8.10"
  }
 },
 "nbformat": 4,
 "nbformat_minor": 2
}
